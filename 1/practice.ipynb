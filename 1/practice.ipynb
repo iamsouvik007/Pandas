{
 "cells": [
  {
   "cell_type": "code",
   "execution_count": 1,
   "id": "27115d39",
   "metadata": {},
   "outputs": [
    {
     "data": {
      "text/plain": [
       "2"
      ]
     },
     "execution_count": 1,
     "metadata": {},
     "output_type": "execute_result"
    }
   ],
   "source": [
    "1+1"
   ]
  },
  {
   "cell_type": "code",
   "execution_count": 3,
   "id": "7169ff52",
   "metadata": {},
   "outputs": [],
   "source": [
    "import numpy as np\n",
    "import pandas as pd"
   ]
  },
  {
   "cell_type": "code",
   "execution_count": 6,
   "id": "417224fb",
   "metadata": {},
   "outputs": [
    {
     "data": {
      "text/plain": [
       "0          India\n",
       "1            USA\n",
       "2          Japan\n",
       "3    South Korea\n",
       "dtype: object"
      ]
     },
     "execution_count": 6,
     "metadata": {},
     "output_type": "execute_result"
    }
   ],
   "source": [
    "country = ['India','USA', 'Japan', 'South Korea']\n",
    "pd.Series(country)"
   ]
  },
  {
   "cell_type": "code",
   "execution_count": 8,
   "id": "a2cc8661",
   "metadata": {},
   "outputs": [
    {
     "data": {
      "text/plain": [
       "0    100\n",
       "1    200\n",
       "2    300\n",
       "3    400\n",
       "dtype: int32"
      ]
     },
     "execution_count": 8,
     "metadata": {},
     "output_type": "execute_result"
    }
   ],
   "source": [
    "runs = [100, 200, 300, 400]\n",
    "pd.Series(runs,dtype='int32')"
   ]
  },
  {
   "cell_type": "code",
   "execution_count": 9,
   "id": "3b9bcbe8",
   "metadata": {},
   "outputs": [
    {
     "data": {
      "text/plain": [
       "Math       90\n",
       "Science    80\n",
       "English    70\n",
       "History    60\n",
       "dtype: int64"
      ]
     },
     "execution_count": 9,
     "metadata": {},
     "output_type": "execute_result"
    }
   ],
   "source": [
    "marks = [90, 80, 70, 60]\n",
    "subjects = ['Math', 'Science', 'English', 'History']\n",
    "pd.Series(marks, index=subjects)"
   ]
  },
  {
   "cell_type": "code",
   "execution_count": 11,
   "id": "e6f5aaae",
   "metadata": {},
   "outputs": [
    {
     "data": {
      "text/plain": [
       "Math       90\n",
       "Science    80\n",
       "English    70\n",
       "History    60\n",
       "Name: Souvik marks, dtype: int64"
      ]
     },
     "execution_count": 11,
     "metadata": {},
     "output_type": "execute_result"
    }
   ],
   "source": [
    "pd.Series(marks, index=subjects,name = 'Souvik marks')"
   ]
  },
  {
   "cell_type": "code",
   "execution_count": 16,
   "id": "7dc07f8a",
   "metadata": {},
   "outputs": [
    {
     "name": "stdout",
     "output_type": "stream",
     "text": [
      "Math       90\n",
      "Science    80\n",
      "English    70\n",
      "History    60\n",
      "dtype: int64\n"
     ]
    }
   ],
   "source": [
    "marks = {\n",
    "    'Math': 90,\n",
    "    'Science': 80,\n",
    "    'English': 70,\n",
    "    'History': 60\n",
    "}\n",
    "\n",
    "marks_series = pd.Series(marks)\n",
    "print(marks_series)\n"
   ]
  },
  {
   "cell_type": "code",
   "execution_count": 17,
   "id": "3bffcbe1",
   "metadata": {},
   "outputs": [
    {
     "data": {
      "text/plain": [
       "4"
      ]
     },
     "execution_count": 17,
     "metadata": {},
     "output_type": "execute_result"
    }
   ],
   "source": [
    "marks_series.size"
   ]
  },
  {
   "cell_type": "code",
   "execution_count": 18,
   "id": "22b4dfa9",
   "metadata": {},
   "outputs": [
    {
     "data": {
      "text/plain": [
       "dtype('int64')"
      ]
     },
     "execution_count": 18,
     "metadata": {},
     "output_type": "execute_result"
    }
   ],
   "source": [
    "marks_series.dtype"
   ]
  },
  {
   "cell_type": "code",
   "execution_count": 19,
   "id": "d5ba9d8f",
   "metadata": {},
   "outputs": [],
   "source": [
    "marks_series.name"
   ]
  },
  {
   "cell_type": "code",
   "execution_count": 20,
   "id": "faf498c6",
   "metadata": {},
   "outputs": [
    {
     "data": {
      "text/plain": [
       "False"
      ]
     },
     "execution_count": 20,
     "metadata": {},
     "output_type": "execute_result"
    }
   ],
   "source": [
    "pd.Series([1,1,2,3]).is_unique"
   ]
  },
  {
   "cell_type": "code",
   "execution_count": 21,
   "id": "d0f57d08",
   "metadata": {},
   "outputs": [
    {
     "data": {
      "text/plain": [
       "Index(['Math', 'Science', 'English', 'History'], dtype='object')"
      ]
     },
     "execution_count": 21,
     "metadata": {},
     "output_type": "execute_result"
    }
   ],
   "source": [
    "marks_series.index"
   ]
  },
  {
   "cell_type": "code",
   "execution_count": 22,
   "id": "8db1eb18",
   "metadata": {},
   "outputs": [
    {
     "data": {
      "text/plain": [
       "array([90, 80, 70, 60])"
      ]
     },
     "execution_count": 22,
     "metadata": {},
     "output_type": "execute_result"
    }
   ],
   "source": [
    "marks_series.values"
   ]
  },
  {
   "cell_type": "code",
   "execution_count": 80,
   "id": "7f4dd86b",
   "metadata": {},
   "outputs": [
    {
     "data": {
      "text/html": [
       "<div>\n",
       "<style scoped>\n",
       "    .dataframe tbody tr th:only-of-type {\n",
       "        vertical-align: middle;\n",
       "    }\n",
       "\n",
       "    .dataframe tbody tr th {\n",
       "        vertical-align: top;\n",
       "    }\n",
       "\n",
       "    .dataframe thead th {\n",
       "        text-align: right;\n",
       "    }\n",
       "</style>\n",
       "<table border=\"1\" class=\"dataframe\">\n",
       "  <thead>\n",
       "    <tr style=\"text-align: right;\">\n",
       "      <th></th>\n",
       "      <th>Subscribers gained</th>\n",
       "    </tr>\n",
       "  </thead>\n",
       "  <tbody>\n",
       "    <tr>\n",
       "      <th>0</th>\n",
       "      <td>48</td>\n",
       "    </tr>\n",
       "    <tr>\n",
       "      <th>1</th>\n",
       "      <td>57</td>\n",
       "    </tr>\n",
       "    <tr>\n",
       "      <th>2</th>\n",
       "      <td>40</td>\n",
       "    </tr>\n",
       "    <tr>\n",
       "      <th>3</th>\n",
       "      <td>43</td>\n",
       "    </tr>\n",
       "    <tr>\n",
       "      <th>4</th>\n",
       "      <td>44</td>\n",
       "    </tr>\n",
       "    <tr>\n",
       "      <th>...</th>\n",
       "      <td>...</td>\n",
       "    </tr>\n",
       "    <tr>\n",
       "      <th>360</th>\n",
       "      <td>231</td>\n",
       "    </tr>\n",
       "    <tr>\n",
       "      <th>361</th>\n",
       "      <td>226</td>\n",
       "    </tr>\n",
       "    <tr>\n",
       "      <th>362</th>\n",
       "      <td>155</td>\n",
       "    </tr>\n",
       "    <tr>\n",
       "      <th>363</th>\n",
       "      <td>144</td>\n",
       "    </tr>\n",
       "    <tr>\n",
       "      <th>364</th>\n",
       "      <td>172</td>\n",
       "    </tr>\n",
       "  </tbody>\n",
       "</table>\n",
       "<p>365 rows × 1 columns</p>\n",
       "</div>"
      ],
      "text/plain": [
       "     Subscribers gained\n",
       "0                    48\n",
       "1                    57\n",
       "2                    40\n",
       "3                    43\n",
       "4                    44\n",
       "..                  ...\n",
       "360                 231\n",
       "361                 226\n",
       "362                 155\n",
       "363                 144\n",
       "364                 172\n",
       "\n",
       "[365 rows x 1 columns]"
      ]
     },
     "execution_count": 80,
     "metadata": {},
     "output_type": "execute_result"
    }
   ],
   "source": [
    "subs = pd.read_csv(r'D:\\AI\\Pandas\\subs.csv')\n",
    "subs"
   ]
  },
  {
   "cell_type": "code",
   "execution_count": 33,
   "id": "5099b2c9",
   "metadata": {},
   "outputs": [
    {
     "name": "stderr",
     "output_type": "stream",
     "text": [
      "<>:1: SyntaxWarning: invalid escape sequence '\\A'\n",
      "<>:1: SyntaxWarning: invalid escape sequence '\\A'\n",
      "C:\\Users\\souvi\\AppData\\Local\\Temp\\ipykernel_10820\\648876259.py:1: SyntaxWarning: invalid escape sequence '\\A'\n",
      "  pd.read_csv('D:\\AI\\Pandas\\subs.csv')\n"
     ]
    },
    {
     "data": {
      "text/html": [
       "<div>\n",
       "<style scoped>\n",
       "    .dataframe tbody tr th:only-of-type {\n",
       "        vertical-align: middle;\n",
       "    }\n",
       "\n",
       "    .dataframe tbody tr th {\n",
       "        vertical-align: top;\n",
       "    }\n",
       "\n",
       "    .dataframe thead th {\n",
       "        text-align: right;\n",
       "    }\n",
       "</style>\n",
       "<table border=\"1\" class=\"dataframe\">\n",
       "  <thead>\n",
       "    <tr style=\"text-align: right;\">\n",
       "      <th></th>\n",
       "      <th>Subscribers gained</th>\n",
       "    </tr>\n",
       "  </thead>\n",
       "  <tbody>\n",
       "    <tr>\n",
       "      <th>0</th>\n",
       "      <td>48</td>\n",
       "    </tr>\n",
       "    <tr>\n",
       "      <th>1</th>\n",
       "      <td>57</td>\n",
       "    </tr>\n",
       "    <tr>\n",
       "      <th>2</th>\n",
       "      <td>40</td>\n",
       "    </tr>\n",
       "    <tr>\n",
       "      <th>3</th>\n",
       "      <td>43</td>\n",
       "    </tr>\n",
       "    <tr>\n",
       "      <th>4</th>\n",
       "      <td>44</td>\n",
       "    </tr>\n",
       "    <tr>\n",
       "      <th>...</th>\n",
       "      <td>...</td>\n",
       "    </tr>\n",
       "    <tr>\n",
       "      <th>360</th>\n",
       "      <td>231</td>\n",
       "    </tr>\n",
       "    <tr>\n",
       "      <th>361</th>\n",
       "      <td>226</td>\n",
       "    </tr>\n",
       "    <tr>\n",
       "      <th>362</th>\n",
       "      <td>155</td>\n",
       "    </tr>\n",
       "    <tr>\n",
       "      <th>363</th>\n",
       "      <td>144</td>\n",
       "    </tr>\n",
       "    <tr>\n",
       "      <th>364</th>\n",
       "      <td>172</td>\n",
       "    </tr>\n",
       "  </tbody>\n",
       "</table>\n",
       "<p>365 rows × 1 columns</p>\n",
       "</div>"
      ],
      "text/plain": [
       "     Subscribers gained\n",
       "0                    48\n",
       "1                    57\n",
       "2                    40\n",
       "3                    43\n",
       "4                    44\n",
       "..                  ...\n",
       "360                 231\n",
       "361                 226\n",
       "362                 155\n",
       "363                 144\n",
       "364                 172\n",
       "\n",
       "[365 rows x 1 columns]"
      ]
     },
     "execution_count": 33,
     "metadata": {},
     "output_type": "execute_result"
    }
   ],
   "source": [
    "pd.read_csv('D:\\AI\\Pandas\\subs.csv')"
   ]
  },
  {
   "cell_type": "code",
   "execution_count": 45,
   "id": "b4c66cfc",
   "metadata": {},
   "outputs": [
    {
     "name": "stderr",
     "output_type": "stream",
     "text": [
      "<>:1: SyntaxWarning: invalid escape sequence '\\A'\n",
      "<>:1: SyntaxWarning: invalid escape sequence '\\A'\n",
      "C:\\Users\\souvi\\AppData\\Local\\Temp\\ipykernel_10820\\4137453942.py:1: SyntaxWarning: invalid escape sequence '\\A'\n",
      "  vk = pd.read_csv('D:\\AI\\Pandas\\kohli_ipl.csv',index_col='match_no')\n"
     ]
    }
   ],
   "source": [
    "vk = pd.read_csv('D:\\AI\\Pandas\\kohli_ipl.csv',index_col='match_no')"
   ]
  },
  {
   "cell_type": "code",
   "execution_count": 51,
   "id": "4ffc02e6",
   "metadata": {},
   "outputs": [],
   "source": [
    "movies = pd.read_csv(r'D:\\AI\\Pandas\\bollywood.csv', index_col='movie').squeeze()"
   ]
  },
  {
   "cell_type": "code",
   "execution_count": 42,
   "id": "981cfd17",
   "metadata": {},
   "outputs": [
    {
     "data": {
      "text/html": [
       "<div>\n",
       "<style scoped>\n",
       "    .dataframe tbody tr th:only-of-type {\n",
       "        vertical-align: middle;\n",
       "    }\n",
       "\n",
       "    .dataframe tbody tr th {\n",
       "        vertical-align: top;\n",
       "    }\n",
       "\n",
       "    .dataframe thead th {\n",
       "        text-align: right;\n",
       "    }\n",
       "</style>\n",
       "<table border=\"1\" class=\"dataframe\">\n",
       "  <thead>\n",
       "    <tr style=\"text-align: right;\">\n",
       "      <th></th>\n",
       "      <th>Subscribers gained</th>\n",
       "    </tr>\n",
       "  </thead>\n",
       "  <tbody>\n",
       "    <tr>\n",
       "      <th>0</th>\n",
       "      <td>48</td>\n",
       "    </tr>\n",
       "    <tr>\n",
       "      <th>1</th>\n",
       "      <td>57</td>\n",
       "    </tr>\n",
       "    <tr>\n",
       "      <th>2</th>\n",
       "      <td>40</td>\n",
       "    </tr>\n",
       "    <tr>\n",
       "      <th>3</th>\n",
       "      <td>43</td>\n",
       "    </tr>\n",
       "    <tr>\n",
       "      <th>4</th>\n",
       "      <td>44</td>\n",
       "    </tr>\n",
       "  </tbody>\n",
       "</table>\n",
       "</div>"
      ],
      "text/plain": [
       "   Subscribers gained\n",
       "0                  48\n",
       "1                  57\n",
       "2                  40\n",
       "3                  43\n",
       "4                  44"
      ]
     },
     "execution_count": 42,
     "metadata": {},
     "output_type": "execute_result"
    }
   ],
   "source": [
    "subs.head()"
   ]
  },
  {
   "cell_type": "code",
   "execution_count": 43,
   "id": "02a04b22",
   "metadata": {},
   "outputs": [
    {
     "data": {
      "text/html": [
       "<div>\n",
       "<style scoped>\n",
       "    .dataframe tbody tr th:only-of-type {\n",
       "        vertical-align: middle;\n",
       "    }\n",
       "\n",
       "    .dataframe tbody tr th {\n",
       "        vertical-align: top;\n",
       "    }\n",
       "\n",
       "    .dataframe thead th {\n",
       "        text-align: right;\n",
       "    }\n",
       "</style>\n",
       "<table border=\"1\" class=\"dataframe\">\n",
       "  <thead>\n",
       "    <tr style=\"text-align: right;\">\n",
       "      <th></th>\n",
       "      <th>Subscribers gained</th>\n",
       "    </tr>\n",
       "  </thead>\n",
       "  <tbody>\n",
       "    <tr>\n",
       "      <th>0</th>\n",
       "      <td>48</td>\n",
       "    </tr>\n",
       "    <tr>\n",
       "      <th>1</th>\n",
       "      <td>57</td>\n",
       "    </tr>\n",
       "    <tr>\n",
       "      <th>2</th>\n",
       "      <td>40</td>\n",
       "    </tr>\n",
       "  </tbody>\n",
       "</table>\n",
       "</div>"
      ],
      "text/plain": [
       "   Subscribers gained\n",
       "0                  48\n",
       "1                  57\n",
       "2                  40"
      ]
     },
     "execution_count": 43,
     "metadata": {},
     "output_type": "execute_result"
    }
   ],
   "source": [
    "subs.head(3)"
   ]
  },
  {
   "cell_type": "code",
   "execution_count": 46,
   "id": "29213d50",
   "metadata": {},
   "outputs": [
    {
     "data": {
      "text/html": [
       "<div>\n",
       "<style scoped>\n",
       "    .dataframe tbody tr th:only-of-type {\n",
       "        vertical-align: middle;\n",
       "    }\n",
       "\n",
       "    .dataframe tbody tr th {\n",
       "        vertical-align: top;\n",
       "    }\n",
       "\n",
       "    .dataframe thead th {\n",
       "        text-align: right;\n",
       "    }\n",
       "</style>\n",
       "<table border=\"1\" class=\"dataframe\">\n",
       "  <thead>\n",
       "    <tr style=\"text-align: right;\">\n",
       "      <th></th>\n",
       "      <th>runs</th>\n",
       "    </tr>\n",
       "    <tr>\n",
       "      <th>match_no</th>\n",
       "      <th></th>\n",
       "    </tr>\n",
       "  </thead>\n",
       "  <tbody>\n",
       "    <tr>\n",
       "      <th>1</th>\n",
       "      <td>1</td>\n",
       "    </tr>\n",
       "    <tr>\n",
       "      <th>2</th>\n",
       "      <td>23</td>\n",
       "    </tr>\n",
       "    <tr>\n",
       "      <th>3</th>\n",
       "      <td>13</td>\n",
       "    </tr>\n",
       "    <tr>\n",
       "      <th>4</th>\n",
       "      <td>12</td>\n",
       "    </tr>\n",
       "    <tr>\n",
       "      <th>5</th>\n",
       "      <td>1</td>\n",
       "    </tr>\n",
       "    <tr>\n",
       "      <th>6</th>\n",
       "      <td>9</td>\n",
       "    </tr>\n",
       "    <tr>\n",
       "      <th>7</th>\n",
       "      <td>34</td>\n",
       "    </tr>\n",
       "    <tr>\n",
       "      <th>8</th>\n",
       "      <td>0</td>\n",
       "    </tr>\n",
       "    <tr>\n",
       "      <th>9</th>\n",
       "      <td>21</td>\n",
       "    </tr>\n",
       "    <tr>\n",
       "      <th>10</th>\n",
       "      <td>3</td>\n",
       "    </tr>\n",
       "  </tbody>\n",
       "</table>\n",
       "</div>"
      ],
      "text/plain": [
       "          runs\n",
       "match_no      \n",
       "1            1\n",
       "2           23\n",
       "3           13\n",
       "4           12\n",
       "5            1\n",
       "6            9\n",
       "7           34\n",
       "8            0\n",
       "9           21\n",
       "10           3"
      ]
     },
     "execution_count": 46,
     "metadata": {},
     "output_type": "execute_result"
    }
   ],
   "source": [
    "vk.head(10)"
   ]
  },
  {
   "cell_type": "code",
   "execution_count": 47,
   "id": "916a06c0",
   "metadata": {},
   "outputs": [
    {
     "data": {
      "text/html": [
       "<div>\n",
       "<style scoped>\n",
       "    .dataframe tbody tr th:only-of-type {\n",
       "        vertical-align: middle;\n",
       "    }\n",
       "\n",
       "    .dataframe tbody tr th {\n",
       "        vertical-align: top;\n",
       "    }\n",
       "\n",
       "    .dataframe thead th {\n",
       "        text-align: right;\n",
       "    }\n",
       "</style>\n",
       "<table border=\"1\" class=\"dataframe\">\n",
       "  <thead>\n",
       "    <tr style=\"text-align: right;\">\n",
       "      <th></th>\n",
       "      <th>runs</th>\n",
       "    </tr>\n",
       "    <tr>\n",
       "      <th>match_no</th>\n",
       "      <th></th>\n",
       "    </tr>\n",
       "  </thead>\n",
       "  <tbody>\n",
       "    <tr>\n",
       "      <th>206</th>\n",
       "      <td>0</td>\n",
       "    </tr>\n",
       "    <tr>\n",
       "      <th>207</th>\n",
       "      <td>0</td>\n",
       "    </tr>\n",
       "    <tr>\n",
       "      <th>208</th>\n",
       "      <td>9</td>\n",
       "    </tr>\n",
       "    <tr>\n",
       "      <th>209</th>\n",
       "      <td>58</td>\n",
       "    </tr>\n",
       "    <tr>\n",
       "      <th>210</th>\n",
       "      <td>30</td>\n",
       "    </tr>\n",
       "    <tr>\n",
       "      <th>211</th>\n",
       "      <td>0</td>\n",
       "    </tr>\n",
       "    <tr>\n",
       "      <th>212</th>\n",
       "      <td>20</td>\n",
       "    </tr>\n",
       "    <tr>\n",
       "      <th>213</th>\n",
       "      <td>73</td>\n",
       "    </tr>\n",
       "    <tr>\n",
       "      <th>214</th>\n",
       "      <td>25</td>\n",
       "    </tr>\n",
       "    <tr>\n",
       "      <th>215</th>\n",
       "      <td>7</td>\n",
       "    </tr>\n",
       "  </tbody>\n",
       "</table>\n",
       "</div>"
      ],
      "text/plain": [
       "          runs\n",
       "match_no      \n",
       "206          0\n",
       "207          0\n",
       "208          9\n",
       "209         58\n",
       "210         30\n",
       "211          0\n",
       "212         20\n",
       "213         73\n",
       "214         25\n",
       "215          7"
      ]
     },
     "execution_count": 47,
     "metadata": {},
     "output_type": "execute_result"
    }
   ],
   "source": [
    "vk.tail(10)"
   ]
  },
  {
   "cell_type": "code",
   "execution_count": 55,
   "id": "f4c9797e",
   "metadata": {},
   "outputs": [
    {
     "data": {
      "text/html": [
       "<div>\n",
       "<style scoped>\n",
       "    .dataframe tbody tr th:only-of-type {\n",
       "        vertical-align: middle;\n",
       "    }\n",
       "\n",
       "    .dataframe tbody tr th {\n",
       "        vertical-align: top;\n",
       "    }\n",
       "\n",
       "    .dataframe thead th {\n",
       "        text-align: right;\n",
       "    }\n",
       "</style>\n",
       "<table border=\"1\" class=\"dataframe\">\n",
       "  <thead>\n",
       "    <tr style=\"text-align: right;\">\n",
       "      <th></th>\n",
       "      <th>runs</th>\n",
       "    </tr>\n",
       "    <tr>\n",
       "      <th>match_no</th>\n",
       "      <th></th>\n",
       "    </tr>\n",
       "  </thead>\n",
       "  <tbody>\n",
       "    <tr>\n",
       "      <th>210</th>\n",
       "      <td>30</td>\n",
       "    </tr>\n",
       "  </tbody>\n",
       "</table>\n",
       "</div>"
      ],
      "text/plain": [
       "          runs\n",
       "match_no      \n",
       "210         30"
      ]
     },
     "execution_count": 55,
     "metadata": {},
     "output_type": "execute_result"
    }
   ],
   "source": [
    "vk.sample()"
   ]
  },
  {
   "cell_type": "code",
   "execution_count": 50,
   "id": "8ba7d255",
   "metadata": {},
   "outputs": [
    {
     "data": {
      "text/html": [
       "<div>\n",
       "<style scoped>\n",
       "    .dataframe tbody tr th:only-of-type {\n",
       "        vertical-align: middle;\n",
       "    }\n",
       "\n",
       "    .dataframe tbody tr th {\n",
       "        vertical-align: top;\n",
       "    }\n",
       "\n",
       "    .dataframe thead th {\n",
       "        text-align: right;\n",
       "    }\n",
       "</style>\n",
       "<table border=\"1\" class=\"dataframe\">\n",
       "  <thead>\n",
       "    <tr style=\"text-align: right;\">\n",
       "      <th></th>\n",
       "      <th>runs</th>\n",
       "    </tr>\n",
       "    <tr>\n",
       "      <th>match_no</th>\n",
       "      <th></th>\n",
       "    </tr>\n",
       "  </thead>\n",
       "  <tbody>\n",
       "    <tr>\n",
       "      <th>108</th>\n",
       "      <td>48</td>\n",
       "    </tr>\n",
       "    <tr>\n",
       "      <th>90</th>\n",
       "      <td>4</td>\n",
       "    </tr>\n",
       "    <tr>\n",
       "      <th>119</th>\n",
       "      <td>80</td>\n",
       "    </tr>\n",
       "    <tr>\n",
       "      <th>57</th>\n",
       "      <td>57</td>\n",
       "    </tr>\n",
       "    <tr>\n",
       "      <th>8</th>\n",
       "      <td>0</td>\n",
       "    </tr>\n",
       "  </tbody>\n",
       "</table>\n",
       "</div>"
      ],
      "text/plain": [
       "          runs\n",
       "match_no      \n",
       "108         48\n",
       "90           4\n",
       "119         80\n",
       "57          57\n",
       "8            0"
      ]
     },
     "execution_count": 50,
     "metadata": {},
     "output_type": "execute_result"
    }
   ],
   "source": [
    "vk.sample(5)"
   ]
  },
  {
   "cell_type": "code",
   "execution_count": 52,
   "id": "be5c1d03",
   "metadata": {},
   "outputs": [
    {
     "data": {
      "text/plain": [
       "lead\n",
       "Akshay Kumar            48\n",
       "Amitabh Bachchan        45\n",
       "Ajay Devgn              38\n",
       "Salman Khan             31\n",
       "Sanjay Dutt             26\n",
       "                        ..\n",
       "Tanishaa Mukerji         1\n",
       "Tanuja                   1\n",
       "Ankit                    1\n",
       "Rakhee Gulzar            1\n",
       "Geetika Vidya Ohlyan     1\n",
       "Name: count, Length: 566, dtype: int64"
      ]
     },
     "execution_count": 52,
     "metadata": {},
     "output_type": "execute_result"
    }
   ],
   "source": [
    "movies.value_counts()"
   ]
  },
  {
   "cell_type": "code",
   "execution_count": 56,
   "id": "4a4e1f39",
   "metadata": {},
   "outputs": [
    {
     "data": {
      "text/html": [
       "<div>\n",
       "<style scoped>\n",
       "    .dataframe tbody tr th:only-of-type {\n",
       "        vertical-align: middle;\n",
       "    }\n",
       "\n",
       "    .dataframe tbody tr th {\n",
       "        vertical-align: top;\n",
       "    }\n",
       "\n",
       "    .dataframe thead th {\n",
       "        text-align: right;\n",
       "    }\n",
       "</style>\n",
       "<table border=\"1\" class=\"dataframe\">\n",
       "  <thead>\n",
       "    <tr style=\"text-align: right;\">\n",
       "      <th></th>\n",
       "      <th>runs</th>\n",
       "    </tr>\n",
       "    <tr>\n",
       "      <th>match_no</th>\n",
       "      <th></th>\n",
       "    </tr>\n",
       "  </thead>\n",
       "  <tbody>\n",
       "    <tr>\n",
       "      <th>128</th>\n",
       "      <td>113</td>\n",
       "    </tr>\n",
       "    <tr>\n",
       "      <th>126</th>\n",
       "      <td>109</td>\n",
       "    </tr>\n",
       "    <tr>\n",
       "      <th>123</th>\n",
       "      <td>108</td>\n",
       "    </tr>\n",
       "    <tr>\n",
       "      <th>120</th>\n",
       "      <td>100</td>\n",
       "    </tr>\n",
       "    <tr>\n",
       "      <th>164</th>\n",
       "      <td>100</td>\n",
       "    </tr>\n",
       "    <tr>\n",
       "      <th>...</th>\n",
       "      <td>...</td>\n",
       "    </tr>\n",
       "    <tr>\n",
       "      <th>93</th>\n",
       "      <td>0</td>\n",
       "    </tr>\n",
       "    <tr>\n",
       "      <th>130</th>\n",
       "      <td>0</td>\n",
       "    </tr>\n",
       "    <tr>\n",
       "      <th>206</th>\n",
       "      <td>0</td>\n",
       "    </tr>\n",
       "    <tr>\n",
       "      <th>207</th>\n",
       "      <td>0</td>\n",
       "    </tr>\n",
       "    <tr>\n",
       "      <th>211</th>\n",
       "      <td>0</td>\n",
       "    </tr>\n",
       "  </tbody>\n",
       "</table>\n",
       "<p>215 rows × 1 columns</p>\n",
       "</div>"
      ],
      "text/plain": [
       "          runs\n",
       "match_no      \n",
       "128        113\n",
       "126        109\n",
       "123        108\n",
       "120        100\n",
       "164        100\n",
       "...        ...\n",
       "93           0\n",
       "130          0\n",
       "206          0\n",
       "207          0\n",
       "211          0\n",
       "\n",
       "[215 rows x 1 columns]"
      ]
     },
     "execution_count": 56,
     "metadata": {},
     "output_type": "execute_result"
    }
   ],
   "source": [
    "vk.sort_values(by='runs', ascending=False)"
   ]
  },
  {
   "cell_type": "code",
   "execution_count": 62,
   "id": "71f67c11",
   "metadata": {},
   "outputs": [
    {
     "data": {
      "text/plain": [
       "array([113])"
      ]
     },
     "execution_count": 62,
     "metadata": {},
     "output_type": "execute_result"
    }
   ],
   "source": [
    "vk.sort_values(by='runs', ascending=False).head(1).values[0]"
   ]
  },
  {
   "cell_type": "code",
   "execution_count": 65,
   "id": "1835f617",
   "metadata": {},
   "outputs": [],
   "source": [
    "vk.sort_values(by='runs', inplace=True)"
   ]
  },
  {
   "cell_type": "code",
   "execution_count": 66,
   "id": "43331226",
   "metadata": {},
   "outputs": [
    {
     "data": {
      "text/html": [
       "<div>\n",
       "<style scoped>\n",
       "    .dataframe tbody tr th:only-of-type {\n",
       "        vertical-align: middle;\n",
       "    }\n",
       "\n",
       "    .dataframe tbody tr th {\n",
       "        vertical-align: top;\n",
       "    }\n",
       "\n",
       "    .dataframe thead th {\n",
       "        text-align: right;\n",
       "    }\n",
       "</style>\n",
       "<table border=\"1\" class=\"dataframe\">\n",
       "  <thead>\n",
       "    <tr style=\"text-align: right;\">\n",
       "      <th></th>\n",
       "      <th>runs</th>\n",
       "    </tr>\n",
       "    <tr>\n",
       "      <th>match_no</th>\n",
       "      <th></th>\n",
       "    </tr>\n",
       "  </thead>\n",
       "  <tbody>\n",
       "    <tr>\n",
       "      <th>8</th>\n",
       "      <td>0</td>\n",
       "    </tr>\n",
       "    <tr>\n",
       "      <th>87</th>\n",
       "      <td>0</td>\n",
       "    </tr>\n",
       "    <tr>\n",
       "      <th>93</th>\n",
       "      <td>0</td>\n",
       "    </tr>\n",
       "    <tr>\n",
       "      <th>91</th>\n",
       "      <td>0</td>\n",
       "    </tr>\n",
       "    <tr>\n",
       "      <th>206</th>\n",
       "      <td>0</td>\n",
       "    </tr>\n",
       "    <tr>\n",
       "      <th>...</th>\n",
       "      <td>...</td>\n",
       "    </tr>\n",
       "    <tr>\n",
       "      <th>164</th>\n",
       "      <td>100</td>\n",
       "    </tr>\n",
       "    <tr>\n",
       "      <th>120</th>\n",
       "      <td>100</td>\n",
       "    </tr>\n",
       "    <tr>\n",
       "      <th>123</th>\n",
       "      <td>108</td>\n",
       "    </tr>\n",
       "    <tr>\n",
       "      <th>126</th>\n",
       "      <td>109</td>\n",
       "    </tr>\n",
       "    <tr>\n",
       "      <th>128</th>\n",
       "      <td>113</td>\n",
       "    </tr>\n",
       "  </tbody>\n",
       "</table>\n",
       "<p>215 rows × 1 columns</p>\n",
       "</div>"
      ],
      "text/plain": [
       "          runs\n",
       "match_no      \n",
       "8            0\n",
       "87           0\n",
       "93           0\n",
       "91           0\n",
       "206          0\n",
       "...        ...\n",
       "164        100\n",
       "120        100\n",
       "123        108\n",
       "126        109\n",
       "128        113\n",
       "\n",
       "[215 rows x 1 columns]"
      ]
     },
     "execution_count": 66,
     "metadata": {},
     "output_type": "execute_result"
    }
   ],
   "source": [
    "vk"
   ]
  },
  {
   "cell_type": "code",
   "execution_count": 67,
   "id": "ca1d6751",
   "metadata": {},
   "outputs": [],
   "source": [
    "movies.sort_index(inplace=True)"
   ]
  },
  {
   "cell_type": "code",
   "execution_count": 68,
   "id": "0ba16f55",
   "metadata": {},
   "outputs": [
    {
     "data": {
      "text/plain": [
       "movie\n",
       "1920 (film)                   Rajniesh Duggall\n",
       "1920: London                     Sharman Joshi\n",
       "1920: The Evil Returns             Vicky Ahuja\n",
       "1971 (2007 film)                Manoj Bajpayee\n",
       "2 States (2014 film)              Arjun Kapoor\n",
       "                                   ...        \n",
       "Zindagi 50-50                      Veena Malik\n",
       "Zindagi Na Milegi Dobara        Hrithik Roshan\n",
       "Zindagi Tere Naam           Mithun Chakraborty\n",
       "Zokkomon                       Darsheel Safary\n",
       "Zor Lagaa Ke...Haiya!            Meghan Jadhav\n",
       "Name: lead, Length: 1500, dtype: object"
      ]
     },
     "execution_count": 68,
     "metadata": {},
     "output_type": "execute_result"
    }
   ],
   "source": [
    "movies"
   ]
  },
  {
   "cell_type": "code",
   "execution_count": 69,
   "id": "f447ccb9",
   "metadata": {},
   "outputs": [
    {
     "data": {
      "text/plain": [
       "runs    215\n",
       "dtype: int64"
      ]
     },
     "execution_count": 69,
     "metadata": {},
     "output_type": "execute_result"
    }
   ],
   "source": [
    "vk.count()"
   ]
  },
  {
   "cell_type": "code",
   "execution_count": 70,
   "id": "37b80d65",
   "metadata": {},
   "outputs": [
    {
     "data": {
      "text/plain": [
       "Subscribers gained    49510\n",
       "dtype: int64"
      ]
     },
     "execution_count": 70,
     "metadata": {},
     "output_type": "execute_result"
    }
   ],
   "source": [
    "subs.sum()"
   ]
  },
  {
   "cell_type": "code",
   "execution_count": 71,
   "id": "2dbee13d",
   "metadata": {},
   "outputs": [
    {
     "data": {
      "text/plain": [
       "Subscribers gained    0\n",
       "dtype: int64"
      ]
     },
     "execution_count": 71,
     "metadata": {},
     "output_type": "execute_result"
    }
   ],
   "source": [
    "subs.product()"
   ]
  },
  {
   "cell_type": "code",
   "execution_count": null,
   "id": "f27372d9",
   "metadata": {},
   "outputs": [],
   "source": []
  },
  {
   "cell_type": "code",
   "execution_count": null,
   "id": "fb8fc292",
   "metadata": {},
   "outputs": [],
   "source": []
  },
  {
   "cell_type": "code",
   "execution_count": 72,
   "id": "62a424ca",
   "metadata": {},
   "outputs": [
    {
     "data": {
      "text/plain": [
       "Subscribers gained    135.643836\n",
       "dtype: float64"
      ]
     },
     "execution_count": 72,
     "metadata": {},
     "output_type": "execute_result"
    }
   ],
   "source": [
    "subs.mean()"
   ]
  },
  {
   "cell_type": "code",
   "execution_count": 73,
   "id": "ece7bc38",
   "metadata": {},
   "outputs": [
    {
     "data": {
      "text/plain": [
       "runs    24.0\n",
       "dtype: float64"
      ]
     },
     "execution_count": 73,
     "metadata": {},
     "output_type": "execute_result"
    }
   ],
   "source": [
    "vk.median()"
   ]
  },
  {
   "cell_type": "code",
   "execution_count": 74,
   "id": "9998628e",
   "metadata": {},
   "outputs": [
    {
     "data": {
      "text/plain": [
       "Subscribers gained    62.675023\n",
       "dtype: float64"
      ]
     },
     "execution_count": 74,
     "metadata": {},
     "output_type": "execute_result"
    }
   ],
   "source": [
    "subs.std()"
   ]
  },
  {
   "cell_type": "code",
   "execution_count": 75,
   "id": "bbd04049",
   "metadata": {},
   "outputs": [
    {
     "data": {
      "text/plain": [
       "runs    688.002478\n",
       "dtype: float64"
      ]
     },
     "execution_count": 75,
     "metadata": {},
     "output_type": "execute_result"
    }
   ],
   "source": [
    "vk.var()"
   ]
  },
  {
   "cell_type": "code",
   "execution_count": 76,
   "id": "192ef4e6",
   "metadata": {},
   "outputs": [
    {
     "data": {
      "text/plain": [
       "Subscribers gained    396\n",
       "dtype: int64"
      ]
     },
     "execution_count": 76,
     "metadata": {},
     "output_type": "execute_result"
    }
   ],
   "source": [
    "subs.max()"
   ]
  },
  {
   "cell_type": "code",
   "execution_count": 77,
   "id": "58531fc8",
   "metadata": {},
   "outputs": [
    {
     "data": {
      "text/plain": [
       "Subscribers gained    33\n",
       "dtype: int64"
      ]
     },
     "execution_count": 77,
     "metadata": {},
     "output_type": "execute_result"
    }
   ],
   "source": [
    "subs.min()"
   ]
  },
  {
   "cell_type": "code",
   "execution_count": 78,
   "id": "0e650a34",
   "metadata": {},
   "outputs": [
    {
     "data": {
      "text/html": [
       "<div>\n",
       "<style scoped>\n",
       "    .dataframe tbody tr th:only-of-type {\n",
       "        vertical-align: middle;\n",
       "    }\n",
       "\n",
       "    .dataframe tbody tr th {\n",
       "        vertical-align: top;\n",
       "    }\n",
       "\n",
       "    .dataframe thead th {\n",
       "        text-align: right;\n",
       "    }\n",
       "</style>\n",
       "<table border=\"1\" class=\"dataframe\">\n",
       "  <thead>\n",
       "    <tr style=\"text-align: right;\">\n",
       "      <th></th>\n",
       "      <th>runs</th>\n",
       "    </tr>\n",
       "  </thead>\n",
       "  <tbody>\n",
       "    <tr>\n",
       "      <th>count</th>\n",
       "      <td>215.000000</td>\n",
       "    </tr>\n",
       "    <tr>\n",
       "      <th>mean</th>\n",
       "      <td>30.855814</td>\n",
       "    </tr>\n",
       "    <tr>\n",
       "      <th>std</th>\n",
       "      <td>26.229801</td>\n",
       "    </tr>\n",
       "    <tr>\n",
       "      <th>min</th>\n",
       "      <td>0.000000</td>\n",
       "    </tr>\n",
       "    <tr>\n",
       "      <th>25%</th>\n",
       "      <td>9.000000</td>\n",
       "    </tr>\n",
       "    <tr>\n",
       "      <th>50%</th>\n",
       "      <td>24.000000</td>\n",
       "    </tr>\n",
       "    <tr>\n",
       "      <th>75%</th>\n",
       "      <td>48.000000</td>\n",
       "    </tr>\n",
       "    <tr>\n",
       "      <th>max</th>\n",
       "      <td>113.000000</td>\n",
       "    </tr>\n",
       "  </tbody>\n",
       "</table>\n",
       "</div>"
      ],
      "text/plain": [
       "             runs\n",
       "count  215.000000\n",
       "mean    30.855814\n",
       "std     26.229801\n",
       "min      0.000000\n",
       "25%      9.000000\n",
       "50%     24.000000\n",
       "75%     48.000000\n",
       "max    113.000000"
      ]
     },
     "execution_count": 78,
     "metadata": {},
     "output_type": "execute_result"
    }
   ],
   "source": [
    "vk.describe()"
   ]
  },
  {
   "cell_type": "code",
   "execution_count": 79,
   "id": "b245cdac",
   "metadata": {},
   "outputs": [
    {
     "data": {
      "text/html": [
       "<div>\n",
       "<style scoped>\n",
       "    .dataframe tbody tr th:only-of-type {\n",
       "        vertical-align: middle;\n",
       "    }\n",
       "\n",
       "    .dataframe tbody tr th {\n",
       "        vertical-align: top;\n",
       "    }\n",
       "\n",
       "    .dataframe thead th {\n",
       "        text-align: right;\n",
       "    }\n",
       "</style>\n",
       "<table border=\"1\" class=\"dataframe\">\n",
       "  <thead>\n",
       "    <tr style=\"text-align: right;\">\n",
       "      <th></th>\n",
       "      <th>Subscribers gained</th>\n",
       "    </tr>\n",
       "  </thead>\n",
       "  <tbody>\n",
       "    <tr>\n",
       "      <th>count</th>\n",
       "      <td>365.000000</td>\n",
       "    </tr>\n",
       "    <tr>\n",
       "      <th>mean</th>\n",
       "      <td>135.643836</td>\n",
       "    </tr>\n",
       "    <tr>\n",
       "      <th>std</th>\n",
       "      <td>62.675023</td>\n",
       "    </tr>\n",
       "    <tr>\n",
       "      <th>min</th>\n",
       "      <td>33.000000</td>\n",
       "    </tr>\n",
       "    <tr>\n",
       "      <th>25%</th>\n",
       "      <td>88.000000</td>\n",
       "    </tr>\n",
       "    <tr>\n",
       "      <th>50%</th>\n",
       "      <td>123.000000</td>\n",
       "    </tr>\n",
       "    <tr>\n",
       "      <th>75%</th>\n",
       "      <td>177.000000</td>\n",
       "    </tr>\n",
       "    <tr>\n",
       "      <th>max</th>\n",
       "      <td>396.000000</td>\n",
       "    </tr>\n",
       "  </tbody>\n",
       "</table>\n",
       "</div>"
      ],
      "text/plain": [
       "       Subscribers gained\n",
       "count          365.000000\n",
       "mean           135.643836\n",
       "std             62.675023\n",
       "min             33.000000\n",
       "25%             88.000000\n",
       "50%            123.000000\n",
       "75%            177.000000\n",
       "max            396.000000"
      ]
     },
     "execution_count": 79,
     "metadata": {},
     "output_type": "execute_result"
    }
   ],
   "source": [
    "subs.describe()"
   ]
  },
  {
   "cell_type": "code",
   "execution_count": 84,
   "id": "fb5d5a09",
   "metadata": {},
   "outputs": [
    {
     "data": {
      "text/html": [
       "<div>\n",
       "<style scoped>\n",
       "    .dataframe tbody tr th:only-of-type {\n",
       "        vertical-align: middle;\n",
       "    }\n",
       "\n",
       "    .dataframe tbody tr th {\n",
       "        vertical-align: top;\n",
       "    }\n",
       "\n",
       "    .dataframe thead th {\n",
       "        text-align: right;\n",
       "    }\n",
       "</style>\n",
       "<table border=\"1\" class=\"dataframe\">\n",
       "  <thead>\n",
       "    <tr style=\"text-align: right;\">\n",
       "      <th></th>\n",
       "      <th>runs</th>\n",
       "    </tr>\n",
       "    <tr>\n",
       "      <th>match_no</th>\n",
       "      <th></th>\n",
       "    </tr>\n",
       "  </thead>\n",
       "  <tbody>\n",
       "    <tr>\n",
       "      <th>8</th>\n",
       "      <td>0</td>\n",
       "    </tr>\n",
       "    <tr>\n",
       "      <th>87</th>\n",
       "      <td>0</td>\n",
       "    </tr>\n",
       "    <tr>\n",
       "      <th>93</th>\n",
       "      <td>0</td>\n",
       "    </tr>\n",
       "    <tr>\n",
       "      <th>91</th>\n",
       "      <td>0</td>\n",
       "    </tr>\n",
       "    <tr>\n",
       "      <th>206</th>\n",
       "      <td>0</td>\n",
       "    </tr>\n",
       "    <tr>\n",
       "      <th>...</th>\n",
       "      <td>...</td>\n",
       "    </tr>\n",
       "    <tr>\n",
       "      <th>82</th>\n",
       "      <td>99</td>\n",
       "    </tr>\n",
       "    <tr>\n",
       "      <th>164</th>\n",
       "      <td>100</td>\n",
       "    </tr>\n",
       "    <tr>\n",
       "      <th>120</th>\n",
       "      <td>100</td>\n",
       "    </tr>\n",
       "    <tr>\n",
       "      <th>123</th>\n",
       "      <td>108</td>\n",
       "    </tr>\n",
       "    <tr>\n",
       "      <th>126</th>\n",
       "      <td>109</td>\n",
       "    </tr>\n",
       "  </tbody>\n",
       "</table>\n",
       "<p>214 rows × 1 columns</p>\n",
       "</div>"
      ],
      "text/plain": [
       "          runs\n",
       "match_no      \n",
       "8            0\n",
       "87           0\n",
       "93           0\n",
       "91           0\n",
       "206          0\n",
       "...        ...\n",
       "82          99\n",
       "164        100\n",
       "120        100\n",
       "123        108\n",
       "126        109\n",
       "\n",
       "[214 rows x 1 columns]"
      ]
     },
     "execution_count": 84,
     "metadata": {},
     "output_type": "execute_result"
    }
   ],
   "source": [
    "vk[:-1]"
   ]
  },
  {
   "cell_type": "code",
   "execution_count": 83,
   "id": "b50e7dec",
   "metadata": {},
   "outputs": [
    {
     "name": "stdout",
     "output_type": "stream",
     "text": [
      "Data info:\n",
      "Number of rows: 365\n",
      "Data type: int64\n",
      "Min value: 33\n",
      "Max value: 396\n",
      "\n",
      "First 10 values: [48, 57, 40, 43, 44, 46, 33, 40, 44, 74]\n",
      "Product of first 10 values: 40936751397273600\n",
      "\n",
      "This is an integer overflow issue!\n",
      "When you multiply 365 positive numbers, the result becomes astronomically large\n",
      "and exceeds the maximum value that can be stored in a 64-bit integer.\n",
      "Product using float64: inf\n",
      "\n",
      "Product of first 5 values: 207060480\n",
      "Product of first 15 values: 1630768422724829184\n",
      "Product of first 20 values: -5411669889746206720\n"
     ]
    },
    {
     "name": "stderr",
     "output_type": "stream",
     "text": [
      "C:\\Users\\souvi\\AppData\\Local\\Packages\\PythonSoftwareFoundation.Python.3.13_qbz5n2kfra8p0\\LocalCache\\local-packages\\Python313\\site-packages\\numpy\\_core\\_methods.py:56: RuntimeWarning: overflow encountered in reduce\n",
      "  return umr_prod(a, axis, dtype, out, keepdims, initial, where)\n"
     ]
    }
   ],
   "source": [
    "# Let's understand the overflow issue\n",
    "print(\"Data info:\")\n",
    "print(f\"Number of rows: {len(subs)}\")\n",
    "print(f\"Data type: {subs['Subscribers gained'].dtype}\")\n",
    "print(f\"Min value: {subs.min().values[0]}\")\n",
    "print(f\"Max value: {subs.max().values[0]}\")\n",
    "\n",
    "# Calculate product using numpy with different data types\n",
    "import numpy as np\n",
    "\n",
    "# First few values to see what's happening\n",
    "print(f\"\\nFirst 10 values: {subs['Subscribers gained'].head(10).tolist()}\")\n",
    "\n",
    "# Product of just first 10 values\n",
    "first_10_product = subs['Subscribers gained'].head(10).product()\n",
    "print(f\"Product of first 10 values: {first_10_product}\")\n",
    "\n",
    "# The issue: multiplying 365 positive integers will result in a HUGE number\n",
    "# that exceeds the limits of standard integer types, causing overflow to 0\n",
    "print(f\"\\nThis is an integer overflow issue!\")\n",
    "print(f\"When you multiply 365 positive numbers, the result becomes astronomically large\")\n",
    "print(f\"and exceeds the maximum value that can be stored in a 64-bit integer.\")\n",
    "\n",
    "# Let's try with float64 to see if we get a result (though it will be huge)\n",
    "product_float = subs['Subscribers gained'].astype('float64').product()\n",
    "print(f\"Product using float64: {product_float}\")\n",
    "\n",
    "# For comparison, let's see what happens with smaller subsets\n",
    "print(f\"\\nProduct of first 5 values: {subs['Subscribers gained'].head(5).product()}\")\n",
    "print(f\"Product of first 15 values: {subs['Subscribers gained'].head(15).product()}\")\n",
    "print(f\"Product of first 20 values: {subs['Subscribers gained'].head(20).product()}\")"
   ]
  },
  {
   "cell_type": "code",
   "execution_count": 85,
   "id": "3d788039",
   "metadata": {},
   "outputs": [
    {
     "data": {
      "text/plain": [
       "movie\n",
       "1920 (film)                 Rajniesh Duggall\n",
       "1920: The Evil Returns           Vicky Ahuja\n",
       "2 States (2014 film)            Arjun Kapoor\n",
       "3 A.M. (2014 film)             Salil Acharya\n",
       "3 Idiots                          Aamir Khan\n",
       "                                  ...       \n",
       "Zero (2018 film)              Shah Rukh Khan\n",
       "Zila Ghaziabad                  Vivek Oberoi\n",
       "Zindaggi Rocks                  Sushmita Sen\n",
       "Zindagi Na Milegi Dobara      Hrithik Roshan\n",
       "Zokkomon                     Darsheel Safary\n",
       "Name: lead, Length: 750, dtype: object"
      ]
     },
     "execution_count": 85,
     "metadata": {},
     "output_type": "execute_result"
    }
   ],
   "source": [
    "movies[::2]"
   ]
  },
  {
   "cell_type": "code",
   "execution_count": 86,
   "id": "18cf0683",
   "metadata": {},
   "outputs": [
    {
     "data": {
      "text/plain": [
       "Math       90\n",
       "Science    80\n",
       "English    70\n",
       "History    60\n",
       "dtype: int64"
      ]
     },
     "execution_count": 86,
     "metadata": {},
     "output_type": "execute_result"
    }
   ],
   "source": [
    "marks_series"
   ]
  },
  {
   "cell_type": "code",
   "execution_count": 87,
   "id": "c05ed623",
   "metadata": {},
   "outputs": [
    {
     "name": "stderr",
     "output_type": "stream",
     "text": [
      "C:\\Users\\souvi\\AppData\\Local\\Temp\\ipykernel_10820\\3104910507.py:1: FutureWarning: Series.__setitem__ treating keys as positions is deprecated. In a future version, integer keys will always be treated as labels (consistent with DataFrame behavior). To set a value by position, use `ser.iloc[pos] = value`\n",
      "  marks_series[1] = 100\n"
     ]
    }
   ],
   "source": [
    "marks_series[1] = 100"
   ]
  },
  {
   "cell_type": "code",
   "execution_count": 88,
   "id": "382e92b5",
   "metadata": {},
   "outputs": [
    {
     "data": {
      "text/plain": [
       "Math        90\n",
       "Science    100\n",
       "English     70\n",
       "History     60\n",
       "dtype: int64"
      ]
     },
     "execution_count": 88,
     "metadata": {},
     "output_type": "execute_result"
    }
   ],
   "source": [
    "marks_series"
   ]
  },
  {
   "cell_type": "code",
   "execution_count": 90,
   "id": "af24c36c",
   "metadata": {},
   "outputs": [
    {
     "name": "stderr",
     "output_type": "stream",
     "text": [
      "C:\\Users\\souvi\\AppData\\Local\\Temp\\ipykernel_10820\\1918120567.py:2: FutureWarning: Series.__setitem__ treating keys as positions is deprecated. In a future version, integer keys will always be treated as labels (consistent with DataFrame behavior). To set a value by position, use `ser.iloc[pos] = value`\n",
      "  marks_series[[0, 2, 3]] = [50, 50, 50]\n"
     ]
    }
   ],
   "source": [
    "# Fix: Only use valid indices (0, 2, 3)\n",
    "marks_series[[0, 2, 3]] = [50, 50, 50]"
   ]
  },
  {
   "cell_type": "code",
   "execution_count": 91,
   "id": "c52fb336",
   "metadata": {},
   "outputs": [
    {
     "data": {
      "text/plain": [
       "Math        50\n",
       "Science    100\n",
       "English     50\n",
       "History     50\n",
       "dtype: int64"
      ]
     },
     "execution_count": 91,
     "metadata": {},
     "output_type": "execute_result"
    }
   ],
   "source": [
    "marks_series"
   ]
  },
  {
   "cell_type": "code",
   "execution_count": 94,
   "id": "66967b29",
   "metadata": {},
   "outputs": [
    {
     "data": {
      "text/html": [
       "<div>\n",
       "<style scoped>\n",
       "    .dataframe tbody tr th:only-of-type {\n",
       "        vertical-align: middle;\n",
       "    }\n",
       "\n",
       "    .dataframe tbody tr th {\n",
       "        vertical-align: top;\n",
       "    }\n",
       "\n",
       "    .dataframe thead th {\n",
       "        text-align: right;\n",
       "    }\n",
       "</style>\n",
       "<table border=\"1\" class=\"dataframe\">\n",
       "  <thead>\n",
       "    <tr style=\"text-align: right;\">\n",
       "      <th></th>\n",
       "      <th>runs</th>\n",
       "    </tr>\n",
       "    <tr>\n",
       "      <th>match_no</th>\n",
       "      <th></th>\n",
       "    </tr>\n",
       "  </thead>\n",
       "  <tbody>\n",
       "    <tr>\n",
       "      <th>8</th>\n",
       "      <td>0</td>\n",
       "    </tr>\n",
       "    <tr>\n",
       "      <th>87</th>\n",
       "      <td>0</td>\n",
       "    </tr>\n",
       "    <tr>\n",
       "      <th>93</th>\n",
       "      <td>0</td>\n",
       "    </tr>\n",
       "    <tr>\n",
       "      <th>91</th>\n",
       "      <td>0</td>\n",
       "    </tr>\n",
       "    <tr>\n",
       "      <th>206</th>\n",
       "      <td>0</td>\n",
       "    </tr>\n",
       "    <tr>\n",
       "      <th>...</th>\n",
       "      <td>...</td>\n",
       "    </tr>\n",
       "    <tr>\n",
       "      <th>164</th>\n",
       "      <td>100</td>\n",
       "    </tr>\n",
       "    <tr>\n",
       "      <th>120</th>\n",
       "      <td>100</td>\n",
       "    </tr>\n",
       "    <tr>\n",
       "      <th>123</th>\n",
       "      <td>108</td>\n",
       "    </tr>\n",
       "    <tr>\n",
       "      <th>126</th>\n",
       "      <td>109</td>\n",
       "    </tr>\n",
       "    <tr>\n",
       "      <th>128</th>\n",
       "      <td>113</td>\n",
       "    </tr>\n",
       "  </tbody>\n",
       "</table>\n",
       "<p>215 rows × 1 columns</p>\n",
       "</div>"
      ],
      "text/plain": [
       "          runs\n",
       "match_no      \n",
       "8            0\n",
       "87           0\n",
       "93           0\n",
       "91           0\n",
       "206          0\n",
       "...        ...\n",
       "164        100\n",
       "120        100\n",
       "123        108\n",
       "126        109\n",
       "128        113\n",
       "\n",
       "[215 rows x 1 columns]"
      ]
     },
     "execution_count": 94,
     "metadata": {},
     "output_type": "execute_result"
    }
   ],
   "source": [
    "vk"
   ]
  },
  {
   "cell_type": "code",
   "execution_count": 95,
   "id": "aa67977e",
   "metadata": {},
   "outputs": [
    {
     "data": {
      "text/html": [
       "<div>\n",
       "<style scoped>\n",
       "    .dataframe tbody tr th:only-of-type {\n",
       "        vertical-align: middle;\n",
       "    }\n",
       "\n",
       "    .dataframe tbody tr th {\n",
       "        vertical-align: top;\n",
       "    }\n",
       "\n",
       "    .dataframe thead th {\n",
       "        text-align: right;\n",
       "    }\n",
       "</style>\n",
       "<table border=\"1\" class=\"dataframe\">\n",
       "  <thead>\n",
       "    <tr style=\"text-align: right;\">\n",
       "      <th></th>\n",
       "      <th>runs</th>\n",
       "    </tr>\n",
       "    <tr>\n",
       "      <th>match_no</th>\n",
       "      <th></th>\n",
       "    </tr>\n",
       "  </thead>\n",
       "  <tbody>\n",
       "    <tr>\n",
       "      <th>8</th>\n",
       "      <td>False</td>\n",
       "    </tr>\n",
       "    <tr>\n",
       "      <th>87</th>\n",
       "      <td>False</td>\n",
       "    </tr>\n",
       "    <tr>\n",
       "      <th>93</th>\n",
       "      <td>False</td>\n",
       "    </tr>\n",
       "    <tr>\n",
       "      <th>91</th>\n",
       "      <td>False</td>\n",
       "    </tr>\n",
       "    <tr>\n",
       "      <th>206</th>\n",
       "      <td>False</td>\n",
       "    </tr>\n",
       "    <tr>\n",
       "      <th>...</th>\n",
       "      <td>...</td>\n",
       "    </tr>\n",
       "    <tr>\n",
       "      <th>164</th>\n",
       "      <td>True</td>\n",
       "    </tr>\n",
       "    <tr>\n",
       "      <th>120</th>\n",
       "      <td>True</td>\n",
       "    </tr>\n",
       "    <tr>\n",
       "      <th>123</th>\n",
       "      <td>True</td>\n",
       "    </tr>\n",
       "    <tr>\n",
       "      <th>126</th>\n",
       "      <td>True</td>\n",
       "    </tr>\n",
       "    <tr>\n",
       "      <th>128</th>\n",
       "      <td>True</td>\n",
       "    </tr>\n",
       "  </tbody>\n",
       "</table>\n",
       "<p>215 rows × 1 columns</p>\n",
       "</div>"
      ],
      "text/plain": [
       "           runs\n",
       "match_no       \n",
       "8         False\n",
       "87        False\n",
       "93        False\n",
       "91        False\n",
       "206       False\n",
       "...         ...\n",
       "164        True\n",
       "120        True\n",
       "123        True\n",
       "126        True\n",
       "128        True\n",
       "\n",
       "[215 rows x 1 columns]"
      ]
     },
     "execution_count": 95,
     "metadata": {},
     "output_type": "execute_result"
    }
   ],
   "source": [
    "vk >= 50"
   ]
  },
  {
   "cell_type": "code",
   "execution_count": 97,
   "id": "c836977e",
   "metadata": {},
   "outputs": [
    {
     "data": {
      "text/plain": [
       "215"
      ]
     },
     "execution_count": 97,
     "metadata": {},
     "output_type": "execute_result"
    }
   ],
   "source": [
    "vk[vk >= 50].size"
   ]
  },
  {
   "cell_type": "code",
   "execution_count": 99,
   "id": "86edd26b",
   "metadata": {},
   "outputs": [
    {
     "data": {
      "text/plain": [
       "215"
      ]
     },
     "execution_count": 99,
     "metadata": {},
     "output_type": "execute_result"
    }
   ],
   "source": [
    "vk[vk==0].size"
   ]
  },
  {
   "cell_type": "code",
   "execution_count": null,
   "id": "d8616913",
   "metadata": {},
   "outputs": [],
   "source": []
  }
 ],
 "metadata": {
  "kernelspec": {
   "display_name": "Python 3",
   "language": "python",
   "name": "python3"
  },
  "language_info": {
   "codemirror_mode": {
    "name": "ipython",
    "version": 3
   },
   "file_extension": ".py",
   "mimetype": "text/x-python",
   "name": "python",
   "nbconvert_exporter": "python",
   "pygments_lexer": "ipython3",
   "version": "3.13.5"
  }
 },
 "nbformat": 4,
 "nbformat_minor": 5
}
