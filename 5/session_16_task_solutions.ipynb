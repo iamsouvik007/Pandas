{
  "cells": [
    {
      "cell_type": "code",
      "execution_count": 17,
      "metadata": {
        "id": "zxrbXftDYalU"
      },
      "outputs": [],
      "source": [
        "import pandas as pd"
      ]
    },
    {
      "cell_type": "markdown",
      "metadata": {
        "id": "MetYTZJpYfdz"
      },
      "source": [
        "### `Q-1:` Write a program to create an empty series."
      ]
    },
    {
      "cell_type": "code",
      "execution_count": 18,
      "metadata": {
        "id": "KUcgT935YgC5",
        "outputId": "8fa850c3-1668-46c2-8635-cc3f9970944f"
      },
      "outputs": [
        {
          "data": {
            "text/plain": [
              "Series([], dtype: object)"
            ]
          },
          "execution_count": 18,
          "metadata": {},
          "output_type": "execute_result"
        }
      ],
      "source": [
        "# code here\n",
        "pd.Series()"
      ]
    },
    {
      "cell_type": "markdown",
      "metadata": {
        "id": "jw5ybzU6YhOo"
      },
      "source": [
        "### `Q-2:` Write a Pandas program to add, subtract, multiple and divide two Pandas Series."
      ]
    },
    {
      "cell_type": "code",
      "execution_count": 19,
      "metadata": {
        "id": "EF3GgVFjYjwG",
        "outputId": "cc920749-7115-4330-97fc-4b894e987c33"
      },
      "outputs": [
        {
          "name": "stdout",
          "output_type": "stream",
          "text": [
            "0     3\n",
            "1     7\n",
            "2    11\n",
            "3    15\n",
            "4    20\n",
            "dtype: int64\n",
            "0    1\n",
            "1    1\n",
            "2    1\n",
            "3    1\n",
            "4    0\n",
            "dtype: int64\n",
            "0      2\n",
            "1     12\n",
            "2     30\n",
            "3     56\n",
            "4    100\n",
            "dtype: int64\n",
            "0    2.000000\n",
            "1    1.333333\n",
            "2    1.200000\n",
            "3    1.142857\n",
            "4    1.000000\n",
            "dtype: float64\n"
          ]
        }
      ],
      "source": [
        "# code here\n",
        "a = pd.Series([2, 4, 6, 8, 10])\n",
        "b = pd.Series([1, 3, 5, 7, 10])\n",
        "\n",
        "print(a+b)\n",
        "print(a-b)\n",
        "print(a*b)\n",
        "print(a/b)"
      ]
    },
    {
      "cell_type": "markdown",
      "metadata": {
        "id": "TZDp25jeYlB6"
      },
      "source": [
        "### `Q-3` Write a Pandas program to compare the elements of the two Pandas Series.\n",
        "Sample Series: [2, 4, 6, 8, 10], [1, 3, 5, 7, 10]\n",
        "\n"
      ]
    },
    {
      "cell_type": "code",
      "execution_count": 20,
      "metadata": {
        "id": "gFNil8ruYp1y",
        "outputId": "ea4d91ed-8e4c-4c40-9443-787d6e775a8e"
      },
      "outputs": [
        {
          "name": "stdout",
          "output_type": "stream",
          "text": [
            "0    False\n",
            "1    False\n",
            "2    False\n",
            "3    False\n",
            "4     True\n",
            "dtype: bool\n",
            "0    False\n",
            "1    False\n",
            "2    False\n",
            "3    False\n",
            "4    False\n",
            "dtype: bool\n",
            "0     True\n",
            "1     True\n",
            "2     True\n",
            "3     True\n",
            "4    False\n",
            "dtype: bool\n"
          ]
        }
      ],
      "source": [
        "# code here\n",
        "a = pd.Series([2, 4, 6, 8, 10])\n",
        "b = pd.Series([1, 3, 5, 7, 10])\n",
        "\n",
        "print(a==b)\n",
        "print(a<b)\n",
        "print(a>b)"
      ]
    },
    {
      "cell_type": "markdown",
      "metadata": {
        "id": "HlOBn_N6YrZz"
      },
      "source": [
        "### `Q-5.`Write a function to change the data type of given a column or a Series. Function takes series and data type as input, returns the converted series.\n",
        "```\n",
        "series = pd.Series([1,2,'Python', 2.0, True, 100])\n",
        "change to float type data\n",
        "```\n",
        "Note: Read about pd.to_numeric()"
      ]
    },
    {
      "cell_type": "code",
      "execution_count": 21,
      "metadata": {
        "id": "_SWQJCUJYwXm",
        "outputId": "d0fe3286-3158-4f8e-d1e6-8f6115db3d2b"
      },
      "outputs": [
        {
          "data": {
            "text/plain": [
              "0      1.0\n",
              "1      2.0\n",
              "2      NaN\n",
              "3      2.0\n",
              "4      1.0\n",
              "5    100.0\n",
              "dtype: float64"
            ]
          },
          "execution_count": 21,
          "metadata": {},
          "output_type": "execute_result"
        }
      ],
      "source": [
        "# code here\n",
        "# Changing the dtype to numeric (int, float)\n",
        "def change_dtype(series):\n",
        "    return pd.to_numeric(series, errors = 'coerce')\n",
        "\n",
        "series = pd.Series([1,2,'Python', 2.0, True, 100])\n",
        "change_dtype(series)"
      ]
    },
    {
      "cell_type": "markdown",
      "metadata": {
        "id": "PGp3OqRIY0Va"
      },
      "source": [
        "Download data - https://drive.google.com/file/d/1LRhXwbEodeWXtzPhJCX0X9Lf_BECzvqb/view?usp=share_link\n",
        "All Batsman runs series in IPL 2008 to 2022.\n",
        "\n",
        "Below questions are based on this data."
      ]
    },
    {
      "cell_type": "code",
      "execution_count": 22,
      "metadata": {
        "id": "G70dVsSUF4bL"
      },
      "outputs": [],
      "source": [
        "\n",
        "data = pd.read_csv(\"batsman_runs_series.csv\")"
      ]
    },
    {
      "cell_type": "markdown",
      "metadata": {
        "id": "TxFkp-L4Y23d"
      },
      "source": [
        "### `Q-6` Find top 10 most run getter from the series."
      ]
    },
    {
      "cell_type": "code",
      "execution_count": 23,
      "metadata": {
        "id": "muBgocA6Y2Bg",
        "outputId": "aa7f9663-09c9-450e-c7f3-b217450de16f"
      },
      "outputs": [
        {
          "data": {
            "text/html": [
              "<div>\n",
              "<style scoped>\n",
              "    .dataframe tbody tr th:only-of-type {\n",
              "        vertical-align: middle;\n",
              "    }\n",
              "\n",
              "    .dataframe tbody tr th {\n",
              "        vertical-align: top;\n",
              "    }\n",
              "\n",
              "    .dataframe thead th {\n",
              "        text-align: right;\n",
              "    }\n",
              "</style>\n",
              "<table border=\"1\" class=\"dataframe\">\n",
              "  <thead>\n",
              "    <tr style=\"text-align: right;\">\n",
              "      <th></th>\n",
              "      <th>batter</th>\n",
              "      <th>batsman_run</th>\n",
              "    </tr>\n",
              "  </thead>\n",
              "  <tbody>\n",
              "    <tr>\n",
              "      <th>569</th>\n",
              "      <td>V Kohli</td>\n",
              "      <td>6634</td>\n",
              "    </tr>\n",
              "    <tr>\n",
              "      <th>462</th>\n",
              "      <td>S Dhawan</td>\n",
              "      <td>6244</td>\n",
              "    </tr>\n",
              "    <tr>\n",
              "      <th>130</th>\n",
              "      <td>DA Warner</td>\n",
              "      <td>5883</td>\n",
              "    </tr>\n",
              "    <tr>\n",
              "      <th>430</th>\n",
              "      <td>RG Sharma</td>\n",
              "      <td>5881</td>\n",
              "    </tr>\n",
              "    <tr>\n",
              "      <th>493</th>\n",
              "      <td>SK Raina</td>\n",
              "      <td>5536</td>\n",
              "    </tr>\n",
              "    <tr>\n",
              "      <th>27</th>\n",
              "      <td>AB de Villiers</td>\n",
              "      <td>5181</td>\n",
              "    </tr>\n",
              "    <tr>\n",
              "      <th>108</th>\n",
              "      <td>CH Gayle</td>\n",
              "      <td>4997</td>\n",
              "    </tr>\n",
              "    <tr>\n",
              "      <th>339</th>\n",
              "      <td>MS Dhoni</td>\n",
              "      <td>4978</td>\n",
              "    </tr>\n",
              "    <tr>\n",
              "      <th>452</th>\n",
              "      <td>RV Uthappa</td>\n",
              "      <td>4954</td>\n",
              "    </tr>\n",
              "    <tr>\n",
              "      <th>256</th>\n",
              "      <td>KD Karthik</td>\n",
              "      <td>4377</td>\n",
              "    </tr>\n",
              "  </tbody>\n",
              "</table>\n",
              "</div>"
            ],
            "text/plain": [
              "             batter  batsman_run\n",
              "569         V Kohli         6634\n",
              "462        S Dhawan         6244\n",
              "130       DA Warner         5883\n",
              "430       RG Sharma         5881\n",
              "493        SK Raina         5536\n",
              "27   AB de Villiers         5181\n",
              "108        CH Gayle         4997\n",
              "339        MS Dhoni         4978\n",
              "452      RV Uthappa         4954\n",
              "256      KD Karthik         4377"
            ]
          },
          "execution_count": 23,
          "metadata": {},
          "output_type": "execute_result"
        }
      ],
      "source": [
        "# code here\n",
        "data.sort_values(\"batsman_run\", ascending = False).head(10)\n",
        "# we pass batsman_run as the column to sort by "
      ]
    },
    {
      "cell_type": "markdown",
      "metadata": {
        "id": "GzlCFBM_Y83g"
      },
      "source": [
        "### `Q-7` No of players having runs above 3000"
      ]
    },
    {
      "cell_type": "code",
      "execution_count": 24,
      "metadata": {
        "id": "JdNchHRWY1B-",
        "outputId": "1466adb5-528a-4f07-cc76-7b71b2b26a64"
      },
      "outputs": [
        {
          "data": {
            "text/plain": [
              "20"
            ]
          },
          "execution_count": 24,
          "metadata": {},
          "output_type": "execute_result"
        }
      ],
      "source": [
        "# code here\n",
        "data[data[\"batsman_run\"]>3000].shape[0]"
      ]
    },
    {
      "cell_type": "markdown",
      "metadata": {
        "id": "pMBEoCL1Y-vh"
      },
      "source": [
        "### `Q-8` No of players having runs above mean value?"
      ]
    },
    {
      "cell_type": "code",
      "execution_count": 25,
      "metadata": {
        "id": "LgtViVFZZBIu",
        "outputId": "200543a0-7696-42d3-89f5-5986a2d6506c"
      },
      "outputs": [
        {
          "data": {
            "text/plain": [
              "128"
            ]
          },
          "execution_count": 25,
          "metadata": {},
          "output_type": "execute_result"
        }
      ],
      "source": [
        "# code here\n",
        "data[data[\"batsman_run\"] > data[\"batsman_run\"].mean()].shape[0]"
      ]
    },
    {
      "cell_type": "markdown",
      "metadata": {
        "id": "OAB1CgdgZEqE"
      },
      "source": [
        "Download data - https://drive.google.com/file/d/1QZuZ5bypUInfVvarHACLAi8tXXHvb8xd/view?usp=share_link\n",
        "\n",
        "file name - items.csv\n",
        "\n"
      ]
    },
    {
      "cell_type": "markdown",
      "metadata": {
        "id": "1UTQQImxZGLu"
      },
      "source": [
        "### `Q-9`\n",
        "    i. Read `items.csv` making `item_name` as index.\n",
        "    ii. Show no of nan values\n",
        "    ii. Item price is given in $, so convert it to rupees without currency symbol.\n",
        "    iii. Make data type of newly made series as float.\n",
        "    iv. Fill nan with mean of the series\n",
        "\n",
        "\n",
        "How csv file looks\n",
        "\n",
        "```\n",
        "item_name\titem_price\n",
        "Chips and Fresh Tomato Salsa\t$2.39\n",
        "Izze\t$3.39\n",
        "Nantucket Nectar\t$3.39\n",
        "Chips and Tomatillo-Green Chili Salsa\t$2.39\n",
        "Chicken Bowl\t$16.98\n",
        "\n",
        "```"
      ]
    },
    {
      "cell_type": "code",
      "execution_count": 26,
      "metadata": {
        "id": "1xaWkoMJZFNK",
        "outputId": "3dda5776-9d30-4302-c0cb-a55d72e6a8cd"
      },
      "outputs": [
        {
          "data": {
            "text/plain": [
              "item_name\n",
              "Chips and Fresh Tomato Salsa              $2.39 \n",
              "Izze                                      $3.39 \n",
              "Nantucket Nectar                          $3.39 \n",
              "Chips and Tomatillo-Green Chili Salsa     $2.39 \n",
              "Chicken Bowl                             $16.98 \n",
              "                                          ...   \n",
              "Steak Burrito                            $11.75 \n",
              "Steak Burrito                            $11.75 \n",
              "Chicken Salad Bowl                       $11.25 \n",
              "Chicken Salad Bowl                        $8.75 \n",
              "Chicken Salad Bowl                        $8.75 \n",
              "Name: item_price, Length: 4622, dtype: object"
            ]
          },
          "execution_count": 26,
          "metadata": {},
          "output_type": "execute_result"
        }
      ],
      "source": [
        "# code here\n",
        "#1\n",
        "items = pd.read_csv(\"items.csv\", index_col = ['item_name']).squeeze(\"columns\")\n",
        "items"
      ]
    },
    {
      "cell_type": "code",
      "execution_count": 27,
      "metadata": {
        "id": "E5zpcbBVF4bR",
        "outputId": "6ecd3f2e-f5da-4bce-b8c2-1552ba6670c2"
      },
      "outputs": [
        {
          "data": {
            "text/plain": [
              "np.int64(50)"
            ]
          },
          "execution_count": 27,
          "metadata": {},
          "output_type": "execute_result"
        }
      ],
      "source": [
        "#2\n",
        "items.isna().sum()"
      ]
    },
    {
      "cell_type": "code",
      "execution_count": 35,
      "metadata": {
        "id": "s_tguLDAF4bR",
        "outputId": "eb5c8168-d98a-4e79-c092-1c7cbbfa08ac"
      },
      "outputs": [
        {
          "data": {
            "text/plain": [
              "item_name\n",
              "Chips and Fresh Tomato Salsa              17280.293915\n",
              "Izze                                      24510.542415\n",
              "Nantucket Nectar                          24510.542415\n",
              "Chips and Tomatillo-Green Chili Salsa     17280.293915\n",
              "Chicken Bowl                             122769.619530\n",
              "                                             ...      \n",
              "Steak Burrito                             84955.419875\n",
              "Steak Burrito                             84955.419875\n",
              "Chicken Salad Bowl                        81340.295625\n",
              "Chicken Salad Bowl                        63264.674375\n",
              "Chicken Salad Bowl                        63264.674375\n",
              "Name: item_price, Length: 4622, dtype: float64"
            ]
          },
          "execution_count": 35,
          "metadata": {},
          "output_type": "execute_result"
        }
      ],
      "source": [
        "#2ii\n",
        "def rupees(x):\n",
        "    try:\n",
        "        y = x[1:]\n",
        "    except:\n",
        "        # Sometimes Dollar sign is not there which throws an exception\n",
        "        y = x\n",
        "    return float(y)*87.65\n",
        "items.apply(rupees)"
      ]
    },
    {
      "cell_type": "code",
      "execution_count": 29,
      "metadata": {
        "id": "CZi6J190F4bS"
      },
      "outputs": [],
      "source": [
        "#3\n",
        "items = items.apply(rupees)"
      ]
    },
    {
      "cell_type": "code",
      "execution_count": 30,
      "metadata": {
        "id": "mpS-GekHF4bS",
        "outputId": "e72c7c6a-7322-4904-ea50-d6ae4ffa1142"
      },
      "outputs": [
        {
          "data": {
            "text/plain": [
              "item_name\n",
              "Chips and Fresh Tomato Salsa              197.1511\n",
              "Izze                                      279.6411\n",
              "Nantucket Nectar                          279.6411\n",
              "Chips and Tomatillo-Green Chili Salsa     197.1511\n",
              "Chicken Bowl                             1400.6802\n",
              "                                           ...    \n",
              "Steak Burrito                             969.2575\n",
              "Steak Burrito                             969.2575\n",
              "Chicken Salad Bowl                        928.0125\n",
              "Chicken Salad Bowl                        721.7875\n",
              "Chicken Salad Bowl                        721.7875\n",
              "Name: item_price, Length: 4622, dtype: float64"
            ]
          },
          "execution_count": 30,
          "metadata": {},
          "output_type": "execute_result"
        }
      ],
      "source": [
        "#4\n",
        "items.fillna(items.mean())"
      ]
    },
    {
      "cell_type": "markdown",
      "metadata": {
        "id": "UHc_4e9cZK8r"
      },
      "source": [
        "### `Q-10`:\n",
        "    i. Find mean price\n",
        "    ii. Find 30th and 6th percentile value\n",
        "    iii. Plot Histogram on price with bin size 50\n",
        "    iv. No of items price lies between [1000 to 2000]\n",
        "\n"
      ]
    },
    {
      "cell_type": "code",
      "execution_count": 31,
      "metadata": {
        "id": "Eh3xX9FpZNmE",
        "outputId": "bb0abe46-1d5f-4840-f860-46a00d3d2be0"
      },
      "outputs": [
        {
          "data": {
            "text/plain": [
              "np.float64(615.6254681102363)"
            ]
          },
          "execution_count": 31,
          "metadata": {},
          "output_type": "execute_result"
        }
      ],
      "source": [
        "# code here\n",
        "#1\n",
        "items.mean()"
      ]
    },
    {
      "cell_type": "code",
      "execution_count": 32,
      "metadata": {
        "id": "7CMO6JpOF4bT",
        "outputId": "fb1d3aab-8964-484b-fb55-ebfce4ab1d58"
      },
      "outputs": [
        {
          "data": {
            "text/plain": [
              "np.float64(103.1125)"
            ]
          },
          "execution_count": 32,
          "metadata": {},
          "output_type": "execute_result"
        }
      ],
      "source": [
        "#2\n",
        "items.quantile(q=0.3)\n",
        "items.quantile(q=0.06)"
      ]
    },
    {
      "cell_type": "code",
      "execution_count": 33,
      "metadata": {
        "id": "EKKJlIM7F4bU",
        "outputId": "aeb68524-0bd1-4347-cc79-89bbe6459c2d"
      },
      "outputs": [
        {
          "data": {
            "text/plain": [
              "<Axes: ylabel='Frequency'>"
            ]
          },
          "execution_count": 33,
          "metadata": {},
          "output_type": "execute_result"
        },
        {
          "data": {
            "image/png": "[encoded data removed]",
            "text/plain": [
              "<Figure size 640x480 with 1 Axes>"
            ]
          },
          "metadata": {},
          "output_type": "display_data"
        }
      ],
      "source": [
        "#3\n",
        "items.plot.hist(bins=50)"
      ]
    },
    {
      "cell_type": "code",
      "execution_count": 34,
      "metadata": {
        "id": "ZOnrFBrVF4bU",
        "outputId": "8cbee4f4-8f40-4cef-b140-5cf25ae558e8"
      },
      "outputs": [
        {
          "data": {
            "text/plain": [
              "item_name\n",
              "Chicken Bowl           1400.6802\n",
              "Chicken Salad Bowl     1856.0250\n",
              "Steak Burrito          1483.1702\n",
              "Chicken Burrito        1443.5750\n",
              "Chicken Bowl           1443.5750\n",
              "                         ...    \n",
              "Chicken Bowl           1856.0250\n",
              "Steak Bowl             1938.5150\n",
              "Chicken Bowl           1443.5750\n",
              "Chips and Guacamole    1468.3220\n",
              "Chicken Salad Bowl     1443.5750\n",
              "Name: item_price, Length: 116, dtype: float64"
            ]
          },
          "execution_count": 34,
          "metadata": {},
          "output_type": "execute_result"
        }
      ],
      "source": [
        "items[(items>1000) & (items<2000)]"
      ]
    },
    {
      "cell_type": "code",
      "execution_count": null,
      "metadata": {
        "id": "EwMFwVVRF4bU"
      },
      "outputs": [],
      "source": []
    }
  ],
  "metadata": {
    "colab": {
      "provenance": []
    },
    "kernelspec": {
      "display_name": "Python 3",
      "language": "python",
      "name": "python3"
    },
    "language_info": {
      "codemirror_mode": {
        "name": "ipython",
        "version": 3
      },
      "file_extension": ".py",
      "mimetype": "text/x-python",
      "name": "python",
      "nbconvert_exporter": "python",
      "pygments_lexer": "ipython3",
      "version": "3.13.6"
    }
  },
  "nbformat": 4,
  "nbformat_minor": 0
}
